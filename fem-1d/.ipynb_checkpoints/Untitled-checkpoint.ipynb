{
 "cells": [
  {
   "cell_type": "code",
   "execution_count": 58,
   "metadata": {},
   "outputs": [],
   "source": [
    "import pandas as pd\n",
    "import numpy as np"
   ]
  },
  {
   "cell_type": "code",
   "execution_count": 70,
   "metadata": {},
   "outputs": [],
   "source": [
    "path = './src/data.txt'\n",
    "data = pd.read_csv(path,sep='\\t',dtype=float)\n",
    "N = data.A.size"
   ]
  },
  {
   "cell_type": "code",
   "execution_count": 71,
   "metadata": {},
   "outputs": [],
   "source": [
    "C_prime = np.zeros(N)\n",
    "D_prime = np.zeros(N)\n",
    "for i in xrange(1,N+1):\n",
    "    if (i==1):\n",
    "        C_prime[i-1] = data.C[i-1] / data.B[i-1]\n",
    "        D_prime[i-1] = data.D[i-1] / data.B[i-1]\n",
    "    else:\n",
    "        C_prime[i-1] = data.C[i-1] / (data.B[i-1]-(data.A[i-1]*C_prime[i-2]))\n",
    "        D_prime[i-1] = (data.D[i-1]-(data.A[i-1]*D_prime[i-2])) / (data.B[i-1]-(data.A[i-1]*C_prime[i-2]))\n",
    "data['C_prime'] = C_prime\n",
    "data['D_prime'] = D_prime"
   ]
  },
  {
   "cell_type": "code",
   "execution_count": 72,
   "metadata": {},
   "outputs": [],
   "source": [
    "x = np.zeros(N)\n",
    "for i in xrange(N-1,-1,-1):\n",
    "    if (i==N-1):\n",
    "        x[i] = data.D_prime[i]\n",
    "    else:\n",
    "        x[i] = data.D_prime[i] - (data.C_prime[i]*x[i+1])\n",
    "data['x'] = np.round(x,4)"
   ]
  },
  {
   "cell_type": "code",
   "execution_count": 73,
   "metadata": {},
   "outputs": [
    {
     "data": {
      "text/html": [
       "<div>\n",
       "<style scoped>\n",
       "    .dataframe tbody tr th:only-of-type {\n",
       "        vertical-align: middle;\n",
       "    }\n",
       "\n",
       "    .dataframe tbody tr th {\n",
       "        vertical-align: top;\n",
       "    }\n",
       "\n",
       "    .dataframe thead th {\n",
       "        text-align: right;\n",
       "    }\n",
       "</style>\n",
       "<table border=\"1\" class=\"dataframe\">\n",
       "  <thead>\n",
       "    <tr style=\"text-align: right;\">\n",
       "      <th></th>\n",
       "      <th>A</th>\n",
       "      <th>B</th>\n",
       "      <th>C</th>\n",
       "      <th>D</th>\n",
       "      <th>C_prime</th>\n",
       "      <th>D_prime</th>\n",
       "      <th>x</th>\n",
       "    </tr>\n",
       "  </thead>\n",
       "  <tbody>\n",
       "    <tr>\n",
       "      <th>0</th>\n",
       "      <td>0.0000</td>\n",
       "      <td>4.4258</td>\n",
       "      <td>7.2007</td>\n",
       "      <td>37.4490</td>\n",
       "      <td>1.626983</td>\n",
       "      <td>8.461521</td>\n",
       "      <td>3.2210</td>\n",
       "    </tr>\n",
       "    <tr>\n",
       "      <th>1</th>\n",
       "      <td>1.7557</td>\n",
       "      <td>4.4258</td>\n",
       "      <td>7.2007</td>\n",
       "      <td>62.8916</td>\n",
       "      <td>4.588460</td>\n",
       "      <td>30.609513</td>\n",
       "      <td>3.2210</td>\n",
       "    </tr>\n",
       "    <tr>\n",
       "      <th>2</th>\n",
       "      <td>9.8515</td>\n",
       "      <td>5.3964</td>\n",
       "      <td>7.2893</td>\n",
       "      <td>78.2298</td>\n",
       "      <td>-0.183117</td>\n",
       "      <td>5.610090</td>\n",
       "      <td>5.9690</td>\n",
       "    </tr>\n",
       "    <tr>\n",
       "      <th>3</th>\n",
       "      <td>5.0398</td>\n",
       "      <td>6.2351</td>\n",
       "      <td>3.2890</td>\n",
       "      <td>74.7451</td>\n",
       "      <td>0.459488</td>\n",
       "      <td>6.492253</td>\n",
       "      <td>1.9600</td>\n",
       "    </tr>\n",
       "    <tr>\n",
       "      <th>4</th>\n",
       "      <td>0.7593</td>\n",
       "      <td>3.5378</td>\n",
       "      <td>9.6730</td>\n",
       "      <td>120.2838</td>\n",
       "      <td>3.033324</td>\n",
       "      <td>36.173550</td>\n",
       "      <td>9.8637</td>\n",
       "    </tr>\n",
       "  </tbody>\n",
       "</table>\n",
       "</div>"
      ],
      "text/plain": [
       "        A       B       C         D   C_prime    D_prime       x\n",
       "0  0.0000  4.4258  7.2007   37.4490  1.626983   8.461521  3.2210\n",
       "1  1.7557  4.4258  7.2007   62.8916  4.588460  30.609513  3.2210\n",
       "2  9.8515  5.3964  7.2893   78.2298 -0.183117   5.610090  5.9690\n",
       "3  5.0398  6.2351  3.2890   74.7451  0.459488   6.492253  1.9600\n",
       "4  0.7593  3.5378  9.6730  120.2838  3.033324  36.173550  9.8637"
      ]
     },
     "execution_count": 73,
     "metadata": {},
     "output_type": "execute_result"
    }
   ],
   "source": [
    "data.head()"
   ]
  },
  {
   "cell_type": "code",
   "execution_count": null,
   "metadata": {},
   "outputs": [],
   "source": []
  }
 ],
 "metadata": {
  "kernelspec": {
   "display_name": "Python 2",
   "language": "python",
   "name": "python2"
  },
  "language_info": {
   "codemirror_mode": {
    "name": "ipython",
    "version": 2
   },
   "file_extension": ".py",
   "mimetype": "text/x-python",
   "name": "python",
   "nbconvert_exporter": "python",
   "pygments_lexer": "ipython2",
   "version": "2.7.15"
  }
 },
 "nbformat": 4,
 "nbformat_minor": 2
}
