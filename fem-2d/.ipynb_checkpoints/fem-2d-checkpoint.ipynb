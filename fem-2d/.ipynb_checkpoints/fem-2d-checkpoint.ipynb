{
 "cells": [
  {
   "cell_type": "markdown",
   "metadata": {},
   "source": [
    "# Lista 06"
   ]
  },
  {
   "cell_type": "code",
   "execution_count": 1,
   "metadata": {},
   "outputs": [],
   "source": [
    "import numpy as np\n",
    "import matplotlib.pyplot as plt"
   ]
  },
  {
   "cell_type": "markdown",
   "metadata": {},
   "source": [
    "# Equação de Condução de calor\n",
    "\n",
    "$$\\frac{\\partial^2 T}{\\partial x^2}+\\frac{\\partial^2 T}{\\partial y^2}=-\\frac{A_0}{k}=-40$$\n",
    "\n",
    "com $0\\leq x\\leq 10$ e $0\\leq y \\leq 10$ e com condições de contorno $$T(0,y) = T(10,y) = 0$$ e $$ T(x,0) = T(x,10) = 0 $$\n",
    "\n",
    "$$ k\\frac{\\partial T}{\\partial x_i}+HT=HT_\\infty $$"
   ]
  },
  {
   "cell_type": "code",
   "execution_count": 2,
   "metadata": {},
   "outputs": [],
   "source": [
    "def cramer(n,N):\n",
    "    for e in xrange(n.shape[0]):\n",
    "        A = np.array([[1,n[e,0,0],n[e,0,1]],\n",
    "                      [1,n[e,1,0],n[e,1,1]],\n",
    "                      [1,n[e,2,0],n[e,2,1]]])\n",
    "        detA = np.linalg.det(A)\n",
    "        \n",
    "        for i in xrange(3):\n",
    "            a = np.copy(A)\n",
    "            a[:,i] = np.array([1,0,0])\n",
    "            b = np.copy(A)\n",
    "            b[:,i] = np.array([0,1,0])\n",
    "            c = np.copy(A)\n",
    "            c[:,i] = np.array([0,0,1])\n",
    "            \n",
    "            N[e,0,i] = np.linalg.det(a) / detA\n",
    "            N[e,1,i] = np.linalg.det(b) / detA\n",
    "            N[e,2,i] = np.linalg.det(c) / detA\n",
    "\n",
    "    return N\n",
    "\n",
    "def derivada(N):\n",
    "    dN = np.zeros(shape=(N.shape[0],2,3))\n",
    "    for e in xrange(N.shape[0]):\n",
    "        dN[e,0] = N[e,:,1]\n",
    "        dN[e,1] = N[e,:,2]\n",
    "    return dN\n",
    "\n",
    "def rigidity(n,dN):\n",
    "    K = np.zeros(shape=(dN.shape[0],3,3))\n",
    "    for e in xrange(dN.shape[0]):\n",
    "        A = np.array([[1,n[e,0,0],n[e,0,1]],\n",
    "                      [1,n[e,1,0],n[e,1,1]],\n",
    "                      [1,n[e,2,0],n[e,2,1]]])\n",
    "        detA = np.linalg.det(A)\n",
    "        \n",
    "        for i in xrange(3):\n",
    "            for j in xrange(3):\n",
    "                aux1 = dN[e,0,j]*dN[e,0,i]\n",
    "                aux2 = dN[e,1,j]*dN[e,1,i]\n",
    "                K[e,i,j] = 0.5 * detA * (aux1+aux2)\n",
    "    return K\n",
    "\n",
    "def force(n,N,c):\n",
    "    H = np.zeros(shape=(N.shape[0],3))\n",
    "    for e in xrange(N.shape[0]):\n",
    "        A = np.array([[1,n[e,0,0],n[e,0,1]],\n",
    "                      [1,n[e,1,0],n[e,1,1]],\n",
    "                      [1,n[e,2,0],n[e,2,1]]])\n",
    "        detA = np.linalg.det(A)\n",
    "        \n",
    "        H[e,0] = detA * c * 0.5\n",
    "        H[e,1] = detA * c * 0.5\n",
    "        H[e,2] = detA * c * 0.5\n",
    "    return H"
   ]
  },
  {
   "cell_type": "code",
   "execution_count": 292,
   "metadata": {},
   "outputs": [],
   "source": [
    "nx, ny = 3, 3\n",
    "N_eleme = 2 * (nx-1) * (ny-1)\n",
    "N_nodes = 3 * N_eleme\n",
    "N_quad = N_eleme / 2\n",
    "\n",
    "xx = np.linspace(0,10,nx)\n",
    "yy = np.linspace(0,10,ny)\n",
    "x = np.tile(xx,ny)\n",
    "y = np.tile(yy,nx)\n",
    "n = np.zeros(shape=(N_eleme,3,2))\n",
    "\n",
    "e = 0\n",
    "for j in xrange(ny-1):\n",
    "    for i in xrange(nx-1):\n",
    "        n[e,0] = np.array([x[1+i],y[1+j]])\n",
    "        n[e,1] = np.array([x[0+i],y[1+j]])\n",
    "        n[e,2] = np.array([x[0+i],y[0+j]])\n",
    "        n[e+1,0] = np.array([x[1+i],y[1+j]])\n",
    "        n[e+1,1] = np.array([x[0+i],y[0+j]])\n",
    "        n[e+1,2] = np.array([x[1+i],y[0+j]])\n",
    "        e+=2\n",
    "        \n",
    "N = np.zeros(shape=(N_eleme,3,3))\n",
    "N = cramer(n,N)\n",
    "dN = derivada(N)"
   ]
  },
  {
   "cell_type": "code",
   "execution_count": 316,
   "metadata": {},
   "outputs": [],
   "source": [
    "# Matriz das [POS]ições\n",
    "POS = np.zeros(shape=(N_eleme+1,2))\n",
    "for j in xrange(ny):\n",
    "    for i in xrange(nx):\n",
    "        POS[i+(j*nx),0] = xx[i]\n",
    "        POS[i+(j*nx),1] = yy[j]\n",
    "        \n",
    "# Matriz de [CON]ectividade\n",
    "CON = np.zeros(shape=(N_eleme,3))\n",
    "for e in xrange(N_eleme):\n",
    "    CON[e,0] = int(np.where((POS[:,0]==n[e,0,0])&(POS[:,1]==n[e,0,1]))[0][0])\n",
    "    CON[e,1] = int(np.where((POS[:,0]==n[e,1,0])&(POS[:,1]==n[e,1,1]))[0][0])\n",
    "    CON[e,2] = int(np.where((POS[:,0]==n[e,2,0])&(POS[:,1]==n[e,2,1]))[0][0])\n",
    "    \n",
    "# [PO]sição dos elementos de [F]ronteira\n",
    "POF = np.zeros(shape=(((nx-1)*2)+((ny-1)*2),2))\n",
    "POF[0,0] = xx[0]\n",
    "POF[1:nx-1,0] = xx[1:nx-1]\n",
    "POF[nx-1,0] = xx[-1]\n",
    "POF[nx:nx+ny-2,0] = xx[-1]\n",
    "POF[nx+ny-2,0] = xx[-1]\n",
    "POF[nx+ny-1:nx+ny+nx-3,0] = xx[nx-2:0:-1]\n",
    "POF[nx+ny+nx-3,0] = xx[0]\n",
    "POF[nx+ny+nx-2:,0] = xx[0]\n",
    "\n",
    "POF[0,1] = yy[0]\n",
    "POF[1:nx-1,1] = yy[0]\n",
    "POF[nx-1,1] = yy[0]\n",
    "POF[nx:nx+ny-2,1] = yy[1:-1]\n",
    "POF[nx+ny-2,1] = yy[-1]\n",
    "POF[nx+ny-1:nx+ny+nx-3,1] = yy[-1]\n",
    "POF[nx+ny+nx-3,1] = yy[-1]\n",
    "POF[nx+ny+nx-2:,1] = yy[nx-2:0:-1]\n",
    "\n",
    "# Matriz de [CO]nectividade entre os pontos de [F]ronteira\n",
    "COF = np.zeros(shape=(((nx-1)*2)+((ny-1)*2),2))\n",
    "for e in xrange(COF.shape[0]):\n",
    "    cx = np.where((POS[:,0]==POF[e,0])&(POS[:,1]==POF[e,1]))[0][0]\n",
    "    try:\n",
    "        cy = np.where((POS[:,0]==POF[e+1,0])&(POS[:,1]==POF[e+1,1]))[0][0]\n",
    "    except:\n",
    "        cy = np.where((POS[:,0]==POF[0,0])&(POS[:,1]==POF[0,1]))[0][0]\n",
    "    COF[e,0] = int(cx)\n",
    "    COF[e,1] = int(cy)\n",
    "    \n",
    "# Matriz de Rigidez para os elementos de Fronteira [FRL]\n",
    "FRL"
   ]
  },
  {
   "cell_type": "code",
   "execution_count": 317,
   "metadata": {},
   "outputs": [
    {
     "data": {
      "text/plain": [
       "array([[0., 1.],\n",
       "       [1., 2.],\n",
       "       [2., 5.],\n",
       "       [5., 8.],\n",
       "       [8., 7.],\n",
       "       [7., 6.],\n",
       "       [6., 3.],\n",
       "       [3., 0.]])"
      ]
     },
     "execution_count": 317,
     "metadata": {},
     "output_type": "execute_result"
    }
   ],
   "source": [
    "COF"
   ]
  },
  {
   "cell_type": "code",
   "execution_count": 299,
   "metadata": {},
   "outputs": [
    {
     "data": {
      "text/plain": [
       "(8, 2)"
      ]
     },
     "execution_count": 299,
     "metadata": {},
     "output_type": "execute_result"
    }
   ],
   "source": [
    "POF.shape"
   ]
  },
  {
   "cell_type": "code",
   "execution_count": 300,
   "metadata": {},
   "outputs": [
    {
     "data": {
      "text/plain": [
       "array([[ 0.,  0.],\n",
       "       [ 5.,  0.],\n",
       "       [10.,  0.],\n",
       "       [ 0.,  5.],\n",
       "       [ 5.,  5.],\n",
       "       [10.,  5.],\n",
       "       [ 0., 10.],\n",
       "       [ 5., 10.],\n",
       "       [10., 10.]])"
      ]
     },
     "execution_count": 300,
     "metadata": {},
     "output_type": "execute_result"
    }
   ],
   "source": [
    "POS"
   ]
  },
  {
   "cell_type": "markdown",
   "metadata": {},
   "source": [
    "# Formulação Fraca\n",
    "\n",
    "$$ T^{(e)}(x,y)=\\sum_{i=1}^{3}T(x^{(e)},y^{(e)})N_i^{(e)}(x,y) $$"
   ]
  },
  {
   "cell_type": "code",
   "execution_count": 4,
   "metadata": {},
   "outputs": [],
   "source": [
    "A0 = 100.\n",
    "k = 2.5\n",
    "\n",
    "K = rigidity(n,dN)\n",
    "H = force(n,N,-A0/k)"
   ]
  },
  {
   "cell_type": "code",
   "execution_count": 5,
   "metadata": {},
   "outputs": [
    {
     "data": {
      "text/plain": [
       "array([[-500., -500., -500.],\n",
       "       [-500., -500., -500.],\n",
       "       [-500., -500., -500.],\n",
       "       [-500., -500., -500.],\n",
       "       [-500., -500., -500.],\n",
       "       [-500., -500., -500.],\n",
       "       [-500., -500., -500.],\n",
       "       [-500., -500., -500.]])"
      ]
     },
     "execution_count": 5,
     "metadata": {},
     "output_type": "execute_result"
    }
   ],
   "source": [
    "H"
   ]
  },
  {
   "cell_type": "code",
   "execution_count": 6,
   "metadata": {},
   "outputs": [
    {
     "data": {
      "text/plain": [
       "array([[[ 5.,  5.],\n",
       "        [ 0.,  5.],\n",
       "        [ 0.,  0.]],\n",
       "\n",
       "       [[ 5.,  5.],\n",
       "        [ 0.,  0.],\n",
       "        [ 5.,  0.]],\n",
       "\n",
       "       [[10.,  5.],\n",
       "        [ 5.,  5.],\n",
       "        [ 5.,  0.]],\n",
       "\n",
       "       [[10.,  5.],\n",
       "        [ 5.,  0.],\n",
       "        [10.,  0.]],\n",
       "\n",
       "       [[ 5., 10.],\n",
       "        [ 0., 10.],\n",
       "        [ 0.,  5.]],\n",
       "\n",
       "       [[ 5., 10.],\n",
       "        [ 0.,  5.],\n",
       "        [ 5.,  5.]],\n",
       "\n",
       "       [[10., 10.],\n",
       "        [ 5., 10.],\n",
       "        [ 5.,  5.]],\n",
       "\n",
       "       [[10., 10.],\n",
       "        [ 5.,  5.],\n",
       "        [10.,  5.]]])"
      ]
     },
     "execution_count": 6,
     "metadata": {},
     "output_type": "execute_result"
    }
   ],
   "source": [
    "n"
   ]
  },
  {
   "cell_type": "code",
   "execution_count": 7,
   "metadata": {},
   "outputs": [
    {
     "data": {
      "text/plain": [
       "array([[[ 0. ,  0.2,  0. ],\n",
       "        [ 0. , -0.2,  0.2],\n",
       "        [ 1. ,  0. , -0.2]],\n",
       "\n",
       "       [[ 0. ,  0. ,  0.2],\n",
       "        [ 1. , -0.2,  0. ],\n",
       "        [ 0. ,  0.2, -0.2]],\n",
       "\n",
       "       [[-1. ,  0.2,  0. ],\n",
       "        [ 1. , -0.2,  0.2],\n",
       "        [ 1. ,  0. , -0.2]],\n",
       "\n",
       "       [[ 0. ,  0. ,  0.2],\n",
       "        [ 2. , -0.2,  0. ],\n",
       "        [-1. ,  0.2, -0.2]],\n",
       "\n",
       "       [[ 0. ,  0.2,  0. ],\n",
       "        [-1. , -0.2,  0.2],\n",
       "        [ 2. ,  0. , -0.2]],\n",
       "\n",
       "       [[-1. ,  0. ,  0.2],\n",
       "        [ 1. , -0.2,  0. ],\n",
       "        [ 1. ,  0.2, -0.2]],\n",
       "\n",
       "       [[-1. ,  0.2,  0. ],\n",
       "        [ 0. , -0.2,  0.2],\n",
       "        [ 2. ,  0. , -0.2]],\n",
       "\n",
       "       [[-1. ,  0. ,  0.2],\n",
       "        [ 2. , -0.2,  0. ],\n",
       "        [ 0. ,  0.2, -0.2]]])"
      ]
     },
     "execution_count": 7,
     "metadata": {},
     "output_type": "execute_result"
    }
   ],
   "source": [
    "N"
   ]
  },
  {
   "cell_type": "code",
   "execution_count": 116,
   "metadata": {},
   "outputs": [
    {
     "data": {
      "text/plain": [
       "array([[[ 5.,  5.],\n",
       "        [ 0.,  5.],\n",
       "        [ 0.,  0.]],\n",
       "\n",
       "       [[ 5.,  5.],\n",
       "        [ 0.,  0.],\n",
       "        [ 5.,  0.]],\n",
       "\n",
       "       [[10.,  5.],\n",
       "        [ 5.,  5.],\n",
       "        [ 5.,  0.]],\n",
       "\n",
       "       [[10.,  5.],\n",
       "        [ 5.,  0.],\n",
       "        [10.,  0.]],\n",
       "\n",
       "       [[ 5., 10.],\n",
       "        [ 0., 10.],\n",
       "        [ 0.,  5.]],\n",
       "\n",
       "       [[ 5., 10.],\n",
       "        [ 0.,  5.],\n",
       "        [ 5.,  5.]],\n",
       "\n",
       "       [[10., 10.],\n",
       "        [ 5., 10.],\n",
       "        [ 5.,  5.]],\n",
       "\n",
       "       [[10., 10.],\n",
       "        [ 5.,  5.],\n",
       "        [10.,  5.]]])"
      ]
     },
     "execution_count": 116,
     "metadata": {},
     "output_type": "execute_result"
    }
   ],
   "source": [
    "n"
   ]
  },
  {
   "cell_type": "code",
   "execution_count": 117,
   "metadata": {},
   "outputs": [
    {
     "data": {
      "text/plain": [
       "array([0., 5.])"
      ]
     },
     "execution_count": 117,
     "metadata": {},
     "output_type": "execute_result"
    }
   ],
   "source": [
    "n[0,1]"
   ]
  },
  {
   "cell_type": "code",
   "execution_count": 120,
   "metadata": {},
   "outputs": [
    {
     "data": {
      "text/plain": [
       "array([[4., 3., 0.],\n",
       "       [4., 0., 1.],\n",
       "       [5., 4., 1.],\n",
       "       [5., 1., 2.],\n",
       "       [7., 6., 3.],\n",
       "       [7., 3., 4.],\n",
       "       [8., 7., 4.],\n",
       "       [8., 4., 5.]])"
      ]
     },
     "execution_count": 120,
     "metadata": {},
     "output_type": "execute_result"
    }
   ],
   "source": [
    "CON"
   ]
  },
  {
   "cell_type": "code",
   "execution_count": null,
   "metadata": {},
   "outputs": [],
   "source": []
  }
 ],
 "metadata": {
  "kernelspec": {
   "display_name": "Python 2",
   "language": "python",
   "name": "python2"
  },
  "language_info": {
   "codemirror_mode": {
    "name": "ipython",
    "version": 2
   },
   "file_extension": ".py",
   "mimetype": "text/x-python",
   "name": "python",
   "nbconvert_exporter": "python",
   "pygments_lexer": "ipython2",
   "version": "2.7.15"
  }
 },
 "nbformat": 4,
 "nbformat_minor": 2
}
